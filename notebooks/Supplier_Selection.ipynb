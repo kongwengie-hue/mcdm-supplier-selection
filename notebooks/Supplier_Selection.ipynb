{
 "cells": [
  {
   "cell_type": "markdown",
   "metadata": {},
   "source": [
    "# Supplier Selection using MCDM\n",
    "This notebook demonstrates Entropy + TOPSIS for supplier ranking."
   ]
  },
  {
   "cell_type": "code",
   "execution_count": null,
   "metadata": {},
   "outputs": [],
   "source": [
    "import pandas as pd\n",
    "import numpy as np\n",
    "from src.mcdm_methods import entropy_weight, topsis\n",
    "\n",
    "# Example data\n",
    "data = pd.DataFrame({\n",
    "    'Cost': [25000, 30000, 28000, 26000],\n",
    "    'Quality': [80, 75, 85, 78],\n",
    "    'Delivery': [7, 9, 6, 8]\n",
    "}, index=['Supplier A', 'Supplier B', 'Supplier C', 'Supplier D'])\n",
    "\n",
    "print('Data:')\n",
    "display(data)\n",
    "\n",
    "# Step 1: Calculate weights\n",
    "weights = entropy_weight(data.values)\n",
    "print('Entropy Weights:', weights)\n",
    "\n",
    "# Step 2: Apply TOPSIS\n",
    "scores, ranking = topsis(data.values, weights)\n",
    "data['Score'] = scores\n",
    "data['Rank'] = ranking\n",
    "display(data.sort_values('Rank'))"
   ]
  }
 ],
 "metadata": {
  "kernelspec": {
   "display_name": "Python 3",
   "language": "python",
   "name": "python3"
  },
  "language_info": {
   "name": "python",
   "version": "3.10"
  }
 },
 "nbformat": 4,
 "nbformat_minor": 2
}